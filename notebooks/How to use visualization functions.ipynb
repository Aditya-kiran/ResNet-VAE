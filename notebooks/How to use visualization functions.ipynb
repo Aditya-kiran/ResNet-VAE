{
 "cells": [
  {
   "cell_type": "code",
   "execution_count": 1,
   "metadata": {},
   "outputs": [
    {
     "name": "stdout",
     "output_type": "stream",
     "text": [
      "Populating the interactive namespace from numpy and matplotlib\n"
     ]
    }
   ],
   "source": [
    "import sys\n",
    "sys.path.append('/Users/kayhan/Projects/nips_pgm/code')\n",
    "\n",
    "%pylab inline"
   ]
  },
  {
   "cell_type": "code",
   "execution_count": 3,
   "metadata": {},
   "outputs": [],
   "source": [
    "from distributions import density_1\n",
    "from flows import ResnetFlow, PlanarFlow\n",
    "from losses import elbo_loss, vanilla_vae_loss, elbo_loss_resnet, cross_entropy_loss, density_regeneration_loss\n",
    "from mag.experiment import Experiment\n",
    "# from tb_logger import Logger\n",
    "from utils import plot_density, scatter_points, detJacHeatmap, deformationGrid, displacementField\n",
    "\n",
    "import numpy as np\n",
    "import tensorflow as tf\n",
    "from IPython import embed\n",
    "\n",
    "experiment = Experiment({ \"batch_size\": 40,\n",
    "\t\t\t\t\t\t\"iterations\": 10000,\n",
    "\t\t\t\t\t\t\"learning_rate\": 0.01,\n",
    "\t\t\t\t\t\t\"flow_length\": 4,\n",
    "\t\t\t\t\t\t\"flow\": \"resnet\",\n",
    "\t\t\t\t\t\t\"exp_name\": \"temp\"}) \n",
    "\n",
    "config = experiment.config\n",
    "experiment.register_directory(\"distributions\")\n",
    "experiment.register_directory(\"postTrainingAnalysis\")\n",
    "experiment.register_directory(\"samples\")\n",
    "\n",
    "\n",
    "\n"
   ]
  },
  {
   "cell_type": "code",
   "execution_count": 4,
   "metadata": {},
   "outputs": [
    {
     "name": "stdout",
     "output_type": "stream",
     "text": [
      "Loss on iteration 300: 2.4339990615844727\n",
      "Loss on iteration 600: 1.8846951723098755\n",
      "Loss on iteration 900: 0.953001081943512\n",
      "Loss on iteration 1200: 0.7767259478569031\n",
      "Loss on iteration 1500: 1.2046599388122559\n",
      "Loss on iteration 1800: 1.3625110387802124\n",
      "Loss on iteration 2100: 1.198664903640747\n",
      "Loss on iteration 2400: 0.6961973309516907\n",
      "Loss on iteration 2700: 0.9588378667831421\n",
      "Loss on iteration 3000: 1.1571787595748901\n",
      "Loss on iteration 3300: 0.8529043793678284\n",
      "Loss on iteration 3600: 0.5171145796775818\n",
      "Loss on iteration 3900: 1.3865118026733398\n",
      "Loss on iteration 4200: 1.2099720239639282\n",
      "Loss on iteration 4500: 1.3255833387374878\n",
      "Loss on iteration 4800: 0.8113930225372314\n",
      "Loss on iteration 5100: 1.1778440475463867\n",
      "Loss on iteration 5400: 0.769562840461731\n",
      "Loss on iteration 5700: 1.1329281330108643\n",
      "Loss on iteration 6000: 0.7541261911392212\n",
      "Loss on iteration 6300: 0.9361557960510254\n",
      "Loss on iteration 6600: 0.9728637933731079\n",
      "Loss on iteration 6900: 0.7859928607940674\n",
      "Loss on iteration 7200: 0.8523328900337219\n",
      "Loss on iteration 7500: 1.5557029247283936\n",
      "Loss on iteration 7800: 0.5099478960037231\n",
      "Loss on iteration 8100: 1.1563050746917725\n",
      "Loss on iteration 8400: 0.8733523488044739\n",
      "Loss on iteration 8700: 0.9379966855049133\n",
      "Loss on iteration 9000: 0.790469229221344\n",
      "Loss on iteration 9300: 0.5669134855270386\n",
      "Loss on iteration 9600: 1.0203938484191895\n",
      "Loss on iteration 9900: 0.8977028727531433\n"
     ]
    }
   ],
   "source": [
    "# Other parameters\n",
    "z_dim = 2\n",
    "log_interval = 300\n",
    "\n",
    "# ResnetFlow paramteres\n",
    "if config.flow == 'resnet':\n",
    "\tnum_flows= config.flow_length\n",
    "\tnum_cells_per_flow = 8\n",
    "\tdt = tf.constant(1.0/(num_cells_per_flow*num_flows), name='dt')\n",
    "\tapproximation = 2 # 1 , 2 , 3 or 4 - None for exact calculation of the determinant of jacobian\n",
    "\n",
    "\n",
    "plot_density(density_1, directory=experiment.distributions)\n",
    "\n",
    "Z = tf.placeholder(tf.float32, shape =[None, 2], name='random_sample')\n",
    "\n",
    "with tf.variable_scope('Flow'):\n",
    "\tif config.flow == 'resnet':\n",
    "\t\tflow = ResnetFlow(num_flows, num_cells_per_flow, z_dim, dt, approximation=approximation)\n",
    "\t\tz_k, sum_log_detj = flow.flow(Z)\n",
    "\n",
    "\tif config.flow == 'planar':\n",
    "\t\tflow = PlanarFlow(z_dim)\n",
    "\t\tz_k, sum_log_detj = flow.flow(Z, num_flows=config.flow_length)\n",
    "\n",
    "\n",
    "loss_op = density_regeneration_loss(density_1, z_k, sum_log_detj)\n",
    "global_step = tf.Variable(0, trainable=False, name='global_step')\n",
    "train_op = tf.train.AdamOptimizer(config.learning_rate).minimize(loss_op, global_step=global_step)\n",
    "\n",
    "sess = tf.Session()\n",
    "sess.run(tf.global_variables_initializer())\n",
    "\n",
    "for iteration in range(1, config.iterations + 1):\n",
    "    z_samples = np.random.normal(0.0, 1.0, [config.batch_size,2])\n",
    "    _, loss, _ = sess.run([train_op, loss_op, z_k], feed_dict={Z: z_samples})\n",
    "    step = tf.train.global_step(sess, tf.train.get_global_step())\n",
    "    \n",
    "    if iteration % log_interval == 0:\n",
    "        print(\"Loss on iteration {}: {}\".format(iteration , loss))\n",
    "        z_samples = np.random.normal(0.0, 1.0, [1000,z_dim])\n",
    "        output = sess.run(z_k, feed_dict={Z: z_samples})\n",
    "        scatter_points(\n",
    "            output,\n",
    "            directory=experiment.samples,\n",
    "            iteration=iteration,\n",
    "            flow_length=config.flow_length)"
   ]
  },
  {
   "cell_type": "code",
   "execution_count": null,
   "metadata": {},
   "outputs": [],
   "source": [
    "flowFcn = lambda x: sess.run(z_k, feed_dict={Z: x[np.newaxis,:]})\n",
    "jacVals,_ = detJacHeatmap([(-6,6,30),(-6,6,30)], flowFcn, displaceFlag=False )\n",
    "\n"
   ]
  },
  {
   "cell_type": "code",
   "execution_count": 13,
   "metadata": {},
   "outputs": [
    {
     "data": {
      "text/plain": [
       "<matplotlib.colorbar.Colorbar at 0x1373349b0>"
      ]
     },
     "execution_count": 13,
     "metadata": {},
     "output_type": "execute_result"
    },
    {
     "data": {
      "image/png": "[encoded data removed]",
      "text/plain": [
       "<Figure size 432x288 with 2 Axes>"
      ]
     },
     "metadata": {},
     "output_type": "display_data"
    }
   ],
   "source": [
    "imshow( jacVals,\n",
    "        extent = (-6, 6, -6, 6),\n",
    "            origin='lower',cmap='jet', vmin=0,vmax=5)\n",
    "colorbar()\n",
    "\n",
    "\n"
   ]
  },
  {
   "cell_type": "code",
   "execution_count": 14,
   "metadata": {},
   "outputs": [
    {
     "data": {
      "text/plain": [
       "<matplotlib.colorbar.Colorbar at 0x13738e5f8>"
      ]
     },
     "execution_count": 14,
     "metadata": {},
     "output_type": "execute_result"
    },
    {
     "data": {
      "image/png": "[encoded data removed]",
      "text/plain": [
       "<Figure size 432x288 with 2 Axes>"
      ]
     },
     "metadata": {},
     "output_type": "display_data"
    }
   ],
   "source": [
    "figure()\n",
    "imshow( np.log(jacVals),\n",
    "        extent = (-6, 6, -6, 6),\n",
    "            origin='lower',cmap='jet', vmin=-3,vmax=3)\n",
    "colorbar()"
   ]
  },
  {
   "cell_type": "code",
   "execution_count": 15,
   "metadata": {},
   "outputs": [
    {
     "data": {
      "text/plain": [
       "(-6.0, 6.0, -6.0, 6.0)"
      ]
     },
     "execution_count": 15,
     "metadata": {},
     "output_type": "execute_result"
    },
    {
     "data": {
      "image/png": "[encoded data removed]",
      "text/plain": [
       "<Figure size 432x288 with 1 Axes>"
      ]
     },
     "metadata": {},
     "output_type": "display_data"
    }
   ],
   "source": [
    "XX,YY = meshgrid(linspace(-6,6,30),linspace(-6,6,30))\n",
    "pcolormesh(XX,YY,np.log(jacVals))\n",
    "axis('equal')\n"
   ]
  },
  {
   "cell_type": "code",
   "execution_count": 18,
   "metadata": {},
   "outputs": [],
   "source": [
    "flowFcn = lambda x: sess.run(z_k, feed_dict={Z: x})\n",
    "domainRange = [(-6,6),(-6,6)]\n",
    "gridSize = [20,20]\n",
    "numPoints = 100\n",
    "deformationGrid(flowFcn, domainRange, gridSize, numPoints,experiment.experiment_dir)        "
   ]
  },
  {
   "cell_type": "code",
   "execution_count": 17,
   "metadata": {},
   "outputs": [
    {
     "name": "stdout",
     "output_type": "stream",
     "text": [
      "Help on function deformationGrid in module utils:\n",
      "\n",
      "deformationGrid(flowFcn, domainRange, gridSize, numPoints, directory)\n",
      "    flowFcn : flow function\n",
      "    gridSize : size of the grid, it is a list\n",
      "    domainRange: it is a list of tuples specifying the range of the domain\n",
      "    numPoints : density of points in each line\n",
      "\n"
     ]
    }
   ],
   "source": [
    "help(deformationGrid)"
   ]
  },
  {
   "cell_type": "code",
   "execution_count": 21,
   "metadata": {},
   "outputs": [],
   "source": [
    "        \n",
    "flowFcn = lambda x: sess.run(z_k, feed_dict={Z: x})\n",
    "domainRange = [(-6,6,10),(-6,6,10)]\n",
    "visualizeRange = [(-10,10),(-10,10)]\n",
    "displacementField(flowFcn,domainRange,visualizeRange, experiment.experiment_dir)"
   ]
  },
  {
   "cell_type": "code",
   "execution_count": 20,
   "metadata": {},
   "outputs": [
    {
     "name": "stdout",
     "output_type": "stream",
     "text": [
      "Help on function displacementField in module utils:\n",
      "\n",
      "displacementField(flowFcn, domainRange, visualizeRange, directory, title=None)\n",
      "    flowFcn : flow function\n",
      "    domainRange: it is a list of tuples specifying the range of the domain (the same as linspace)\n",
      "    visualizeRange : list of tuples specifying the range of visualization\n",
      "\n"
     ]
    }
   ],
   "source": [
    "help(displacementField)"
   ]
  },
  {
   "cell_type": "code",
   "execution_count": 22,
   "metadata": {},
   "outputs": [
    {
     "data": {
      "text/plain": [
       "'./experiments/40|temp|resnet|4|10000|0.01'"
      ]
     },
     "execution_count": 22,
     "metadata": {},
     "output_type": "execute_result"
    }
   ],
   "source": [
    "experiment.experiment_dir"
   ]
  },
  {
   "cell_type": "code",
   "execution_count": null,
   "metadata": {},
   "outputs": [],
   "source": []
  }
 ],
 "metadata": {
  "kernelspec": {
   "display_name": "Python 3",
   "language": "python",
   "name": "python3"
  },
  "language_info": {
   "codemirror_mode": {
    "name": "ipython",
    "version": 3
   },
   "file_extension": ".py",
   "mimetype": "text/x-python",
   "name": "python",
   "nbconvert_exporter": "python",
   "pygments_lexer": "ipython3",
   "version": "3.6.5"
  }
 },
 "nbformat": 4,
 "nbformat_minor": 2
}
