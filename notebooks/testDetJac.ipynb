{
 "cells": [
  {
   "cell_type": "code",
   "execution_count": 1,
   "metadata": {
    "colab": {
     "autoexec": {
      "startup": false,
      "wait_interval": 0
     },
     "base_uri": "https://localhost:8080/",
     "height": 34
    },
    "colab_type": "code",
    "executionInfo": {
     "elapsed": 417,
     "status": "ok",
     "timestamp": 1525190957774,
     "user": {
      "displayName": "Kayhan Batmanghelich",
      "photoUrl": "//lh4.googleusercontent.com/-qE_RtBWylcg/AAAAAAAAAAI/AAAAAAAAOZo/oZoAPaY9EMU/s50-c-k-no/photo.jpg",
      "userId": "106160268460955948125"
     },
     "user_tz": 240
    },
    "id": "0CHcikWGojhP",
    "outputId": "33369dc9-8a55-4cd7-a1d3-6316526f09e3"
   },
   "outputs": [
    {
     "name": "stdout",
     "output_type": "stream",
     "text": [
      "Populating the interactive namespace from numpy and matplotlib\n"
     ]
    }
   ],
   "source": [
    "import numpy as np\n",
    "%pylab inline"
   ]
  },
  {
   "cell_type": "markdown",
   "metadata": {
    "colab_type": "text",
    "id": "V-YnlIjQ3KMV"
   },
   "source": [
    "# Understanding Approximation of Log Det Jac"
   ]
  },
  {
   "cell_type": "code",
   "execution_count": 2,
   "metadata": {
    "colab": {
     "autoexec": {
      "startup": false,
      "wait_interval": 0
     },
     "base_uri": "https://localhost:8080/",
     "height": 437
    },
    "colab_type": "code",
    "executionInfo": {
     "elapsed": 615,
     "status": "ok",
     "timestamp": 1525190961397,
     "user": {
      "displayName": "Kayhan Batmanghelich",
      "photoUrl": "//lh4.googleusercontent.com/-qE_RtBWylcg/AAAAAAAAAAI/AAAAAAAAOZo/oZoAPaY9EMU/s50-c-k-no/photo.jpg",
      "userId": "106160268460955948125"
     },
     "user_tz": 240
    },
    "id": "TTb8WQSWo4wb",
    "outputId": "4c0e43ef-79d1-43cf-8f20-708997a46a8a"
   },
   "outputs": [
    {
     "name": "stderr",
     "output_type": "stream",
     "text": [
      "/Users/kayhan/anaconda2/lib/python2.7/site-packages/ipykernel/__main__.py:47: MatplotlibDeprecationWarning: pyplot.hold is deprecated.\n",
      "    Future behavior will be consistent with the long-time default:\n",
      "    plot commands add elements without first clearing the\n",
      "    Axes and/or Figure.\n",
      "/Users/kayhan/anaconda2/lib/python2.7/site-packages/matplotlib/__init__.py:917: UserWarning: axes.hold is deprecated. Please remove it from your matplotlibrc and/or style files.\n",
      "  warnings.warn(self.msg_depr_set % key)\n",
      "/Users/kayhan/anaconda2/lib/python2.7/site-packages/matplotlib/rcsetup.py:152: UserWarning: axes.hold is deprecated, will be removed in 3.0\n",
      "  warnings.warn(\"axes.hold is deprecated, will be removed in 3.0\")\n"
     ]
    },
    {
     "data": {
      "text/plain": [
       "[<matplotlib.lines.Line2D at 0x103f1ce50>]"
      ]
     },
     "execution_count": 2,
     "metadata": {},
     "output_type": "execute_result"
    },
    {
     "data": {
      "image/png": "[encoded data removed]",
      "text/plain": [
       "<matplotlib.figure.Figure at 0x103f1ce90>"
      ]
     },
     "metadata": {},
     "output_type": "display_data"
    }
   ],
   "source": [
    "n = 20\n",
    "alpha = 0.001\n",
    "d = 50\n",
    "m = 10\n",
    "\n",
    "errs1 = []\n",
    "errs2 = []\n",
    "errs3 = []\n",
    "for j in np.linspace(-4,-1,10):\n",
    "    alpha = 10**j\n",
    "    ee1 = []\n",
    "    ee2 = []\n",
    "    ee3 = []\n",
    "    for i in range(n):\n",
    "        J = np.random.rand(d,d)\n",
    "        # exact \n",
    "        exact = np.log(np.linalg.det( np.eye(d) +  alpha*J ))\n",
    "\n",
    "        # approximate 1\n",
    "        approx1 = np.trace(alpha*J)\n",
    "      \n",
    "        # approximate 2\n",
    "        approx2 = np.trace(alpha*J) - 0.5*(alpha**2)*np.trace(J.dot(J.T))\n",
    "        \n",
    "        # approximate 3\n",
    "        s = 0\n",
    "        for ii in range(m):\n",
    "          r = np.random.randn(d,1)\n",
    "          s = s + r.T.dot(J.dot(r))\n",
    "\n",
    "        s = s/m\n",
    "        approx3 = alpha*s\n",
    "        \n",
    "        \n",
    "        ee1.append( np.abs(exact - approx1) )\n",
    "        ee2.append( np.abs(exact - approx2) )\n",
    "        ee3.append( np.abs(exact - approx3) )\n",
    "    errs1.append(mean(ee1))\n",
    "    errs2.append(mean(ee2))\n",
    "    errs3.append(mean(ee3))\n",
    "      \n",
    "  \n",
    "#print \"exact : \", exact\n",
    "#print \"approx : \", approx\n",
    "  \n",
    "plot(10**np.linspace(-4,-1,10), np.array(errs1),'b')\n",
    "hold(True)\n",
    "plot(10**np.linspace(-4,-1,10), np.array(errs2),'r')\n",
    "plot(10**np.linspace(-4,-1,10), np.array(errs3),'g')\n",
    "\n"
   ]
  },
  {
   "cell_type": "code",
   "execution_count": null,
   "metadata": {},
   "outputs": [],
   "source": []
  },
  {
   "cell_type": "markdown",
   "metadata": {
    "colab_type": "text",
    "id": "EQqamKP769Hw"
   },
   "source": [
    "# Build resNet"
   ]
  },
  {
   "cell_type": "code",
   "execution_count": 3,
   "metadata": {
    "colab": {
     "autoexec": {
      "startup": false,
      "wait_interval": 0
     }
    },
    "colab_type": "code",
    "id": "Q61X5F7X7FWJ"
   },
   "outputs": [],
   "source": [
    "# http://pytorch.org/\n",
    "from os import path\n",
    "from wheel.pep425tags import get_abbr_impl, get_impl_ver, get_abi_tag\n",
    "platform = '{}{}-{}'.format(get_abbr_impl(), get_impl_ver(), get_abi_tag())\n",
    "\n",
    "accelerator = 'cu80' if path.exists('/opt/bin/nvidia-smi') else 'cpu'\n",
    "\n",
    "!pip install -q http://download.pytorch.org/whl/{accelerator}/torch-0.3.0.post4-{platform}-linux_x86_64.whl torchvision\n",
    "import torch"
   ]
  },
  {
   "cell_type": "code",
   "execution_count": 4,
   "metadata": {
    "colab": {
     "autoexec": {
      "startup": false,
      "wait_interval": 0
     }
    },
    "colab_type": "code",
    "id": "k-UMylSip3rV"
   },
   "outputs": [],
   "source": [
    "import torch.nn as nn\n",
    "import math\n",
    "import torch.utils.model_zoo as model_zoo\n",
    "\n"
   ]
  },
  {
   "cell_type": "code",
   "execution_count": 5,
   "metadata": {
    "colab": {
     "autoexec": {
      "startup": false,
      "wait_interval": 0
     },
     "base_uri": "https://localhost:8080/",
     "height": 51
    },
    "colab_type": "code",
    "executionInfo": {
     "elapsed": 385,
     "status": "ok",
     "timestamp": 1524274716206,
     "user": {
      "displayName": "Kayhan Batmanghelich",
      "photoUrl": "//lh4.googleusercontent.com/-qE_RtBWylcg/AAAAAAAAAAI/AAAAAAAAOZo/oZoAPaY9EMU/s50-c-k-no/photo.jpg",
      "userId": "106160268460955948125"
     },
     "user_tz": 240
    },
    "id": "x7FAu0xSqz1T",
    "outputId": "40872202-bdc1-415f-ddbc-10eb18737984"
   },
   "outputs": [
    {
     "name": "stdout",
     "output_type": "stream",
     "text": [
      "5.735183600411201\n",
      "[[6.00969098]]\n"
     ]
    }
   ],
   "source": [
    "d = 10\n",
    "m = 500\n",
    "J = np.random.rand(d,d)\n",
    "print( np.trace(J))\n",
    "s = 0\n",
    "for ii in range(m):\n",
    "  r = np.random.randn(d,1)\n",
    "  s = s + r.T.dot(J.dot(r))\n",
    "  \n",
    "s = s/m\n",
    "print (s)"
   ]
  },
  {
   "cell_type": "code",
   "execution_count": 6,
   "metadata": {
    "colab": {
     "autoexec": {
      "startup": false,
      "wait_interval": 0
     },
     "base_uri": "https://localhost:8080/",
     "height": 689
    },
    "colab_type": "code",
    "executionInfo": {
     "elapsed": 306,
     "status": "ok",
     "timestamp": 1524274697724,
     "user": {
      "displayName": "Kayhan Batmanghelich",
      "photoUrl": "//lh4.googleusercontent.com/-qE_RtBWylcg/AAAAAAAAAAI/AAAAAAAAOZo/oZoAPaY9EMU/s50-c-k-no/photo.jpg",
      "userId": "106160268460955948125"
     },
     "user_tz": 240
    },
    "id": "OHD40yx00lve",
    "outputId": "b46a4d9a-a9f6-476a-9770-f33dc6da5c5c"
   },
   "outputs": [
    {
     "data": {
      "text/plain": [
       "array([[ 4.60140265e-04, -4.44598563e-04, -1.56995647e-04,\n",
       "         1.25143449e-04, -1.07758266e-03,  3.50201675e-04,\n",
       "         1.35457187e-03, -2.64089638e-04, -3.84155559e-04,\n",
       "         3.44190115e-04],\n",
       "       [-4.44598563e-04,  4.29581798e-04,  1.51692960e-04,\n",
       "        -1.20916603e-04,  1.04118622e-03, -3.38373260e-04,\n",
       "        -1.30881983e-03,  2.55169744e-04,  3.71180318e-04,\n",
       "        -3.32564747e-04],\n",
       "       [-1.56995647e-04,  1.51692960e-04,  5.35654776e-05,\n",
       "        -4.26977994e-05,  3.67661341e-04, -1.19485606e-04,\n",
       "        -4.62167522e-04,  9.01049671e-05,  1.31070361e-04,\n",
       "        -1.17434517e-04],\n",
       "       [ 1.25143449e-04, -1.20916603e-04, -4.26977994e-05,\n",
       "         3.40350195e-05, -2.93068052e-04,  9.52436658e-05,\n",
       "         3.68400265e-04, -7.18239430e-05, -1.04478037e-04,\n",
       "         9.36087135e-05],\n",
       "       [-1.07758266e-03,  1.04118622e-03,  3.67661341e-04,\n",
       "        -2.93068052e-04,  2.52354441e-03, -8.20122217e-04,\n",
       "        -3.17221350e-03,  6.18460145e-04,  8.99637354e-04,\n",
       "        -8.06044003e-04],\n",
       "       [ 3.50201675e-04, -3.38373260e-04, -1.19485606e-04,\n",
       "         9.52436658e-05, -8.20122217e-04,  2.66530062e-04,\n",
       "         1.03093203e-03, -2.00992264e-04, -2.92371546e-04,\n",
       "         2.61954809e-04],\n",
       "       [ 1.35457187e-03, -1.30881983e-03, -4.62167522e-04,\n",
       "         3.68400265e-04, -3.17221350e-03,  1.03093203e-03,\n",
       "         3.98762090e-03, -7.77433362e-04, -1.13088628e-03,\n",
       "         1.01323506e-03],\n",
       "       [-2.64089638e-04,  2.55169744e-04,  9.01049671e-05,\n",
       "        -7.18239430e-05,  6.18460145e-04, -2.00992264e-04,\n",
       "        -7.77433362e-04,  1.51569732e-04,  2.20479515e-04,\n",
       "        -1.97542032e-04],\n",
       "       [-3.84155559e-04,  3.71180318e-04,  1.31070361e-04,\n",
       "        -1.04478037e-04,  8.99637354e-04, -2.92371546e-04,\n",
       "        -1.13088628e-03,  2.20479515e-04,  3.20718496e-04,\n",
       "        -2.87352697e-04],\n",
       "       [ 3.44190115e-04, -3.32564747e-04, -1.17434517e-04,\n",
       "         9.36087135e-05, -8.06044003e-04,  2.61954809e-04,\n",
       "         1.01323506e-03, -1.97542032e-04, -2.87352697e-04,\n",
       "         2.57458094e-04]])"
      ]
     },
     "execution_count": 6,
     "metadata": {},
     "output_type": "execute_result"
    }
   ],
   "source": [
    "r.dot(r.T)/m"
   ]
  },
  {
   "cell_type": "code",
   "execution_count": null,
   "metadata": {
    "colab": {
     "autoexec": {
      "startup": false,
      "wait_interval": 0
     }
    },
    "colab_type": "code",
    "id": "IeaGGFac0m2_"
   },
   "outputs": [],
   "source": []
  }
 ],
 "metadata": {
  "colab": {
   "default_view": {},
   "name": "testDetJac.ipynb",
   "provenance": [],
   "version": "0.3.2",
   "views": {}
  },
  "kernelspec": {
   "display_name": "Python [conda env:anaconda2]",
   "language": "python",
   "name": "conda-env-anaconda2-py"
  },
  "language_info": {
   "codemirror_mode": {
    "name": "ipython",
    "version": 2
   },
   "file_extension": ".py",
   "mimetype": "text/x-python",
   "name": "python",
   "nbconvert_exporter": "python",
   "pygments_lexer": "ipython2",
   "version": "2.7.13"
  }
 },
 "nbformat": 4,
 "nbformat_minor": 2
}
