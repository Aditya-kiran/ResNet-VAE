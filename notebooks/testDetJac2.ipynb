{
 "cells": [
  {
   "cell_type": "code",
   "execution_count": 1,
   "metadata": {
    "collapsed": false
   },
   "outputs": [
    {
     "name": "stdout",
     "output_type": "stream",
     "text": [
      "Populating the interactive namespace from numpy and matplotlib\n"
     ]
    }
   ],
   "source": [
    "import numpy as np\n",
    "%pylab inline"
   ]
  },
  {
   "cell_type": "markdown",
   "metadata": {},
   "source": [
    "# Understanding Approximation of Log Det Jac"
   ]
  },
  {
   "cell_type": "code",
   "execution_count": 7,
   "metadata": {
    "collapsed": false
   },
   "outputs": [
    {
     "name": "stderr",
     "output_type": "stream",
     "text": [
      "/Users/kayhan/anaconda2/lib/python2.7/site-packages/ipykernel/__main__.py:20: RuntimeWarning: invalid value encountered in log\n",
      "/Users/kayhan/anaconda2/lib/python2.7/site-packages/ipykernel/__main__.py:63: MatplotlibDeprecationWarning: pyplot.hold is deprecated.\n",
      "    Future behavior will be consistent with the long-time default:\n",
      "    plot commands add elements without first clearing the\n",
      "    Axes and/or Figure.\n"
     ]
    },
    {
     "data": {
      "text/plain": [
       "<matplotlib.legend.Legend at 0x10dbee610>"
      ]
     },
     "execution_count": 7,
     "metadata": {},
     "output_type": "execute_result"
    },
    {
     "data": {
      "image/png": "[encoded data removed]",
      "text/plain": [
       "<matplotlib.figure.Figure at 0x10db59190>"
      ]
     },
     "metadata": {},
     "output_type": "display_data"
    }
   ],
   "source": [
    "n = 20\n",
    "alpha = 0.001\n",
    "d = 50\n",
    "m = 10\n",
    "\n",
    "errs1 = []\n",
    "errs2 = []\n",
    "errs3 = []\n",
    "errs4 = []\n",
    "x_range = np.linspace(-4,-0.3,20)\n",
    "for j in x_range:\n",
    "    alpha = 10**j\n",
    "    ee1 = []\n",
    "    ee2 = []\n",
    "    ee3 = []\n",
    "    ee4 = []\n",
    "    for i in range(n):\n",
    "        J = np.random.rand(d,d)\n",
    "        # exact \n",
    "        exact = np.log(np.linalg.det( np.eye(d) +  alpha*J ))\n",
    "        if np.isnan(exact):\n",
    "            continue\n",
    "\n",
    "        # approximate 1\n",
    "        approx1 = alpha*np.trace(J + J.T)\n",
    "      \n",
    "        # approximate 2\n",
    "        approx2 = 0.5*alpha*np.trace(J + J.T) + 0.5*(alpha**2)*np.trace(J.dot(J.T))\n",
    "        \n",
    "        # approximate 3\n",
    "        s = 0\n",
    "        for ii in range(m):\n",
    "          r = np.random.randn(d,1)\n",
    "          s = s + 0.5*r.T.dot(J.dot(r))\n",
    "          s = s + 0.5*r.T.dot(J.T.dot(r))  \n",
    "          #s = s + r.T.dot(J.dot(r))\n",
    "        s = s/m\n",
    "        approx3 = alpha*s\n",
    "        \n",
    "        # approximate 4\n",
    "        s = 0\n",
    "        for ii in range(m):\n",
    "          r = np.random.randn(d,1)\n",
    "          s = s + 0.5*np.linalg.norm( J.dot(r) )**2\n",
    "        s = s/m\n",
    "        approx4 = approx3 + alpha**2*s \n",
    "        \n",
    "        \n",
    "        ee1.append( np.abs(exact - approx1) )\n",
    "        ee2.append( np.abs(exact - approx2) )\n",
    "        ee3.append( np.abs(exact - approx3) )\n",
    "        ee4.append( np.abs(exact - approx4) )\n",
    "    errs1.append(mean(ee1))\n",
    "    errs2.append(mean(ee2))\n",
    "    errs3.append(mean(ee3))\n",
    "    errs4.append(mean(ee4))\n",
    "      \n",
    "  \n",
    "#print \"exact : \", exact\n",
    "#print \"approx : \", approx\n",
    "  \n",
    "plot(10**x_range, np.array(errs1),'b', label='exact - first Term')\n",
    "hold(True)\n",
    "plot(10**x_range, np.array(errs2),'r',label='exect - first+second Terms')\n",
    "plot(10**x_range, np.array(errs3),'g',label='exact - randFirst')\n",
    "plot(10**x_range, np.array(errs4),'c',label='exact - randFirstSecond')\n",
    "xlabel('\\Detal t')\n",
    "legend()\n",
    "\n",
    "\n"
   ]
  },
  {
   "cell_type": "code",
   "execution_count": 8,
   "metadata": {
    "collapsed": false
   },
   "outputs": [
    {
     "name": "stderr",
     "output_type": "stream",
     "text": [
      "/Users/kayhan/anaconda2/lib/python2.7/site-packages/ipykernel/__main__.py:2: MatplotlibDeprecationWarning: pyplot.hold is deprecated.\n",
      "    Future behavior will be consistent with the long-time default:\n",
      "    plot commands add elements without first clearing the\n",
      "    Axes and/or Figure.\n",
      "  from ipykernel import kernelapp as app\n"
     ]
    },
    {
     "data": {
      "text/plain": [
       "<matplotlib.legend.Legend at 0x10dc7e990>"
      ]
     },
     "execution_count": 8,
     "metadata": {},
     "output_type": "execute_result"
    },
    {
     "data": {
      "image/png": "[encoded data removed]",
      "text/plain": [
       "<matplotlib.figure.Figure at 0x10cbc7d90>"
      ]
     },
     "metadata": {},
     "output_type": "display_data"
    }
   ],
   "source": [
    "plot(10**x_range, np.array(errs1),'b', label='exact - first Term')\n",
    "hold(True)\n",
    "plot(10**x_range, np.array(errs2),'r',label='exect - first+second Terms')\n",
    "plot(10**x_range, np.array(errs3),'g',label='exact - randFirst')\n",
    "plot(10**x_range, np.array(errs4),'c',label='exact - randFirstSecond')\n",
    "xlabel('\\Detal t')\n",
    "axis([0,0.2,0,40])\n",
    "legend()"
   ]
  },
  {
   "cell_type": "code",
   "execution_count": 28,
   "metadata": {
    "collapsed": false
   },
   "outputs": [
    {
     "data": {
      "text/plain": [
       "[0.0025471150949601669,\n",
       " 0.0038131223927610736,\n",
       " 0.006328918676497962,\n",
       " 0.0097138380930747881,\n",
       " 0.01495115508648422,\n",
       " 0.023659485848031896,\n",
       " 0.036677763348891543,\n",
       " 0.060770876343588978,\n",
       " 0.093982737078288026,\n",
       " 0.1524094094430381,\n",
       " 0.24393251851770614,\n",
       " 0.40120229224861859,\n",
       " 0.67036725631187721,\n",
       " 1.0494914216139888,\n",
       " 1.7942275763012727,\n",
       " 3.0534861617388094,\n",
       " 5.0878886434302224,\n",
       " 8.4909446728597562,\n",
       " 13.856755066843613,\n",
       " 24.20174130280293]"
      ]
     },
     "execution_count": 28,
     "metadata": {},
     "output_type": "execute_result"
    }
   ],
   "source": [
    "errs1"
   ]
  },
  {
   "cell_type": "code",
   "execution_count": 29,
   "metadata": {
    "collapsed": false
   },
   "outputs": [
    {
     "data": {
      "text/plain": [
       "[7.3275608637697352e-06,\n",
       " 1.7911018656073463e-05,\n",
       " 4.3839684887135054e-05,\n",
       " 0.00010767467187872458,\n",
       " 0.00026270517656062226,\n",
       " 0.00064278327064446589,\n",
       " 0.0015718913704440708,\n",
       " 0.0038626811371309201,\n",
       " 0.0092940274424286647,\n",
       " 0.022296599369871949,\n",
       " 0.054208362204770745,\n",
       " 0.12920852784659345,\n",
       " 0.30920462677012839,\n",
       " 0.71874467888665206,\n",
       " 1.6747327806555745,\n",
       " 3.8422043134161257,\n",
       " 8.9210549925489282,\n",
       " 20.674879535917075,\n",
       " 48.686037793235364,\n",
       " 114.84996435117267]"
      ]
     },
     "execution_count": 29,
     "metadata": {},
     "output_type": "execute_result"
    }
   ],
   "source": [
    "errs2"
   ]
  },
  {
   "cell_type": "code",
   "execution_count": 30,
   "metadata": {
    "collapsed": false
   },
   "outputs": [
    {
     "data": {
      "text/plain": [
       "[0.00096172815749060272,\n",
       " 0.0013047943656844065,\n",
       " 0.0033071432673528779,\n",
       " 0.0032308881763684653,\n",
       " 0.0063363363498822921,\n",
       " 0.012842708159483629,\n",
       " 0.014398978110913365,\n",
       " 0.022708998471232821,\n",
       " 0.037116304410045327,\n",
       " 0.052071645925163404,\n",
       " 0.080105075137651777,\n",
       " 0.15591537974421962,\n",
       " 0.25370693788365017,\n",
       " 0.32062485106609018,\n",
       " 0.67262355858395839,\n",
       " 0.97184641329827604,\n",
       " 1.2152245303110534,\n",
       " 3.0696297227718867,\n",
       " 6.1105892651852924,\n",
       " 10.69561778773944]"
      ]
     },
     "execution_count": 30,
     "metadata": {},
     "output_type": "execute_result"
    }
   ],
   "source": [
    "errs3"
   ]
  },
  {
   "cell_type": "code",
   "execution_count": 20,
   "metadata": {
    "collapsed": false
   },
   "outputs": [
    {
     "data": {
      "text/plain": [
       "False"
      ]
     },
     "execution_count": 20,
     "metadata": {},
     "output_type": "execute_result"
    }
   ],
   "source": [
    "nan==np.nan"
   ]
  },
  {
   "cell_type": "code",
   "execution_count": 31,
   "metadata": {
    "collapsed": false
   },
   "outputs": [
    {
     "data": {
      "text/plain": [
       "\u001b[0;31mSignature:\u001b[0m \u001b[0mnp\u001b[0m\u001b[0;34m.\u001b[0m\u001b[0mlinalg\u001b[0m\u001b[0;34m.\u001b[0m\u001b[0mnorm\u001b[0m\u001b[0;34m(\u001b[0m\u001b[0mx\u001b[0m\u001b[0;34m,\u001b[0m \u001b[0mord\u001b[0m\u001b[0;34m=\u001b[0m\u001b[0mNone\u001b[0m\u001b[0;34m,\u001b[0m \u001b[0maxis\u001b[0m\u001b[0;34m=\u001b[0m\u001b[0mNone\u001b[0m\u001b[0;34m,\u001b[0m \u001b[0mkeepdims\u001b[0m\u001b[0;34m=\u001b[0m\u001b[0mFalse\u001b[0m\u001b[0;34m)\u001b[0m\u001b[0;34m\u001b[0m\u001b[0m\n",
       "\u001b[0;31mDocstring:\u001b[0m\n",
       "Matrix or vector norm.\n",
       "\n",
       "This function is able to return one of eight different matrix norms,\n",
       "or one of an infinite number of vector norms (described below), depending\n",
       "on the value of the ``ord`` parameter.\n",
       "\n",
       "Parameters\n",
       "----------\n",
       "x : array_like\n",
       "    Input array.  If `axis` is None, `x` must be 1-D or 2-D.\n",
       "ord : {non-zero int, inf, -inf, 'fro', 'nuc'}, optional\n",
       "    Order of the norm (see table under ``Notes``). inf means numpy's\n",
       "    `inf` object.\n",
       "axis : {int, 2-tuple of ints, None}, optional\n",
       "    If `axis` is an integer, it specifies the axis of `x` along which to\n",
       "    compute the vector norms.  If `axis` is a 2-tuple, it specifies the\n",
       "    axes that hold 2-D matrices, and the matrix norms of these matrices\n",
       "    are computed.  If `axis` is None then either a vector norm (when `x`\n",
       "    is 1-D) or a matrix norm (when `x` is 2-D) is returned.\n",
       "keepdims : bool, optional\n",
       "    If this is set to True, the axes which are normed over are left in the\n",
       "    result as dimensions with size one.  With this option the result will\n",
       "    broadcast correctly against the original `x`.\n",
       "\n",
       "    .. versionadded:: 1.10.0\n",
       "\n",
       "Returns\n",
       "-------\n",
       "n : float or ndarray\n",
       "    Norm of the matrix or vector(s).\n",
       "\n",
       "Notes\n",
       "-----\n",
       "For values of ``ord <= 0``, the result is, strictly speaking, not a\n",
       "mathematical 'norm', but it may still be useful for various numerical\n",
       "purposes.\n",
       "\n",
       "The following norms can be calculated:\n",
       "\n",
       "=====  ============================  ==========================\n",
       "ord    norm for matrices             norm for vectors\n",
       "=====  ============================  ==========================\n",
       "None   Frobenius norm                2-norm\n",
       "'fro'  Frobenius norm                --\n",
       "'nuc'  nuclear norm                  --\n",
       "inf    max(sum(abs(x), axis=1))      max(abs(x))\n",
       "-inf   min(sum(abs(x), axis=1))      min(abs(x))\n",
       "0      --                            sum(x != 0)\n",
       "1      max(sum(abs(x), axis=0))      as below\n",
       "-1     min(sum(abs(x), axis=0))      as below\n",
       "2      2-norm (largest sing. value)  as below\n",
       "-2     smallest singular value       as below\n",
       "other  --                            sum(abs(x)**ord)**(1./ord)\n",
       "=====  ============================  ==========================\n",
       "\n",
       "The Frobenius norm is given by [1]_:\n",
       "\n",
       "    :math:`||A||_F = [\\sum_{i,j} abs(a_{i,j})^2]^{1/2}`\n",
       "\n",
       "The nuclear norm is the sum of the singular values.\n",
       "\n",
       "References\n",
       "----------\n",
       ".. [1] G. H. Golub and C. F. Van Loan, *Matrix Computations*,\n",
       "       Baltimore, MD, Johns Hopkins University Press, 1985, pg. 15\n",
       "\n",
       "Examples\n",
       "--------\n",
       ">>> from numpy import linalg as LA\n",
       ">>> a = np.arange(9) - 4\n",
       ">>> a\n",
       "array([-4, -3, -2, -1,  0,  1,  2,  3,  4])\n",
       ">>> b = a.reshape((3, 3))\n",
       ">>> b\n",
       "array([[-4, -3, -2],\n",
       "       [-1,  0,  1],\n",
       "       [ 2,  3,  4]])\n",
       "\n",
       ">>> LA.norm(a)\n",
       "7.745966692414834\n",
       ">>> LA.norm(b)\n",
       "7.745966692414834\n",
       ">>> LA.norm(b, 'fro')\n",
       "7.745966692414834\n",
       ">>> LA.norm(a, np.inf)\n",
       "4.0\n",
       ">>> LA.norm(b, np.inf)\n",
       "9.0\n",
       ">>> LA.norm(a, -np.inf)\n",
       "0.0\n",
       ">>> LA.norm(b, -np.inf)\n",
       "2.0\n",
       "\n",
       ">>> LA.norm(a, 1)\n",
       "20.0\n",
       ">>> LA.norm(b, 1)\n",
       "7.0\n",
       ">>> LA.norm(a, -1)\n",
       "-4.6566128774142013e-010\n",
       ">>> LA.norm(b, -1)\n",
       "6.0\n",
       ">>> LA.norm(a, 2)\n",
       "7.745966692414834\n",
       ">>> LA.norm(b, 2)\n",
       "7.3484692283495345\n",
       "\n",
       ">>> LA.norm(a, -2)\n",
       "nan\n",
       ">>> LA.norm(b, -2)\n",
       "1.8570331885190563e-016\n",
       ">>> LA.norm(a, 3)\n",
       "5.8480354764257312\n",
       ">>> LA.norm(a, -3)\n",
       "nan\n",
       "\n",
       "Using the `axis` argument to compute vector norms:\n",
       "\n",
       ">>> c = np.array([[ 1, 2, 3],\n",
       "...               [-1, 1, 4]])\n",
       ">>> LA.norm(c, axis=0)\n",
       "array([ 1.41421356,  2.23606798,  5.        ])\n",
       ">>> LA.norm(c, axis=1)\n",
       "array([ 3.74165739,  4.24264069])\n",
       ">>> LA.norm(c, ord=1, axis=1)\n",
       "array([ 6.,  6.])\n",
       "\n",
       "Using the `axis` argument to compute matrix norms:\n",
       "\n",
       ">>> m = np.arange(8).reshape(2,2,2)\n",
       ">>> LA.norm(m, axis=(1,2))\n",
       "array([  3.74165739,  11.22497216])\n",
       ">>> LA.norm(m[0, :, :]), LA.norm(m[1, :, :])\n",
       "(3.7416573867739413, 11.224972160321824)\n",
       "\u001b[0;31mFile:\u001b[0m      ~/anaconda2/lib/python2.7/site-packages/numpy/linalg/linalg.py\n",
       "\u001b[0;31mType:\u001b[0m      function\n"
      ]
     },
     "metadata": {},
     "output_type": "display_data"
    }
   ],
   "source": [
    "np.linalg.norm?"
   ]
  },
  {
   "cell_type": "code",
   "execution_count": 32,
   "metadata": {
    "collapsed": false
   },
   "outputs": [
    {
     "data": {
      "text/plain": [
       "1.4142135623730951"
      ]
     },
     "execution_count": 32,
     "metadata": {},
     "output_type": "execute_result"
    }
   ],
   "source": [
    "np.linalg.norm(np.array([1,1]))"
   ]
  },
  {
   "cell_type": "code",
   "execution_count": null,
   "metadata": {
    "collapsed": true
   },
   "outputs": [],
   "source": []
  }
 ],
 "metadata": {
  "kernelspec": {
   "display_name": "Python [conda env:anaconda2]",
   "language": "python",
   "name": "conda-env-anaconda2-py"
  },
  "language_info": {
   "codemirror_mode": {
    "name": "ipython",
    "version": 2
   },
   "file_extension": ".py",
   "mimetype": "text/x-python",
   "name": "python",
   "nbconvert_exporter": "python",
   "pygments_lexer": "ipython2",
   "version": "2.7.13"
  }
 },
 "nbformat": 4,
 "nbformat_minor": 2
}
